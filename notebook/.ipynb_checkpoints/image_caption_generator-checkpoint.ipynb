{
 "cells": [
  {
   "cell_type": "code",
   "execution_count": 1,
   "id": "51358f7a-ecd1-4293-92e5-0b08411c2d9f",
   "metadata": {},
   "outputs": [],
   "source": [
    "# import libraries\n",
    "import os\n",
    "import random\n",
    "import numpy as np\n",
    "import pickle\n",
    "import string\n",
    "from tqdm import tqdm\n",
    "import matplotlib.pyplot as plt\n",
    "\n",
    "import tensorflow as tf\n",
    "from tensorflow.keras.applications.vgg16 import VGG16, preprocess_input\n",
    "from tensorflow.keras.preprocessing.image import load_img\n",
    "from tensorflow.keras.models import Model, load_model\n",
    "from tensorflow.keras.layers import Input, Dense, LSTM, Embedding, Dropout, add\n",
    "from tensorflow.keras.preprocessing.text import Tokenizer\n",
    "from tensorflow.keras.preprocessing.sequence import pad_sequences\n",
    "from tensorflow.keras.utils import to_categorical, plot_model\n",
    "from tensorflow.keras import backend as K\n",
    "from tensorflow.keras.callbacks import EarlyStopping\n",
    "from tensorflow.keras.callbacks import ModelCheckpoint\n",
    "\n",
    "from nltk.translate.bleu_score import sentence_bleu"
   ]
  },
  {
   "cell_type": "markdown",
   "id": "70786046-358c-4794-9048-e9843ff9c001",
   "metadata": {},
   "source": [
    "### Extract features of images "
   ]
  },
  {
   "cell_type": "code",
   "execution_count": 2,
   "id": "18849249-606e-41ea-9cee-0c713dc2b34c",
   "metadata": {},
   "outputs": [],
   "source": [
    "def features_extraction(directory):\n",
    "    \"\"\"\n",
    "    extract features from each photo in the directory\n",
    "    \"\"\"\n",
    "    # load the model\n",
    "    model = VGG16(weights='imagenet')\n",
    "    # remove the last layer (dense layer) of model\n",
    "    layer_output = model.layers[-2].output\n",
    "    model = Model(inputs=model.inputs, outputs=layer_output)\n",
    "    # extract features of photos\n",
    "    features = dict()\n",
    "    files =  os.listdir(directory)\n",
    "    for file in tqdm(files) :\n",
    "        # load an image from file\n",
    "        filename = directory + '/' + file\n",
    "        image = load_img(filename, target_size=(224, 224))\n",
    "        # convert image to a numpy array\n",
    "        numpy_image = np.array(image)\n",
    "        # add an extra dimension to the image in numpy array fromat to define number of samples\n",
    "        image_batch = np.expand_dims(numpy_image, axis=0)\n",
    "        # do preprocessing on the image for the VGG model\n",
    "        processed_image = preprocess_input(image_batch)\n",
    "        # get features\n",
    "        feature = model.predict(processed_image, verbose=0)\n",
    "        # get image id\n",
    "        image_id = file.split('.')[0]\n",
    "        # put image id and image features in the dict\n",
    "        features[image_id] = feature\n",
    "    return features"
   ]
  },
  {
   "cell_type": "code",
   "execution_count": 3,
   "id": "1896017d-2f27-49b9-9498-5567251808c3",
   "metadata": {
    "tags": []
   },
   "outputs": [],
   "source": [
    "# directory = '../data/Flicker8k_Dataset'\n",
    "# features = features_extraction(directory)\n",
    "# # save features in a file\n",
    "# pickle.dump(features, open('../models/features.pkl', 'wb'))"
   ]
  },
  {
   "cell_type": "code",
   "execution_count": 4,
   "id": "fefc14fa-13ce-4214-a39c-2742428f8e68",
   "metadata": {},
   "outputs": [],
   "source": [
    "with open('../models/features.pkl', 'rb') as f:\n",
    "    features = pickle.load(f)"
   ]
  },
  {
   "cell_type": "code",
   "execution_count": 5,
   "id": "f0214141-54aa-4b90-b6ed-a54f9b58d8ca",
   "metadata": {},
   "outputs": [
    {
     "data": {
      "text/plain": [
       "8091"
      ]
     },
     "execution_count": 5,
     "metadata": {},
     "output_type": "execute_result"
    }
   ],
   "source": [
    "len(features.keys())"
   ]
  },
  {
   "cell_type": "markdown",
   "id": "86f6e27f-4ceb-423e-b033-943a68113032",
   "metadata": {},
   "source": [
    "### Text Data Cleaning"
   ]
  },
  {
   "cell_type": "code",
   "execution_count": 6,
   "id": "f52aeb7d-9246-44c3-acb8-f24e71cdac33",
   "metadata": {},
   "outputs": [],
   "source": [
    "def load_text_file(filepath):\n",
    "    \"\"\"\n",
    "    load text file from given filepath\n",
    "    \"\"\"\n",
    "    with open(filepath,'r') as file:\n",
    "        text = file.read()\n",
    "    file.close()\n",
    "    return text"
   ]
  },
  {
   "cell_type": "code",
   "execution_count": 7,
   "id": "f121ca21-390f-4593-8bad-2d2c2ca39a75",
   "metadata": {},
   "outputs": [],
   "source": [
    "def get_captions(text):\n",
    "    \"\"\"\n",
    "    extract the image id and related image captions from text file and \n",
    "    retuern them in a dict.\n",
    "    \"\"\"\n",
    "    \n",
    "    captions = text.split('\\n')\n",
    "    descriptions = {}\n",
    "    for caption in captions[:-1]:\n",
    "        image_id , image_des = caption.split('\\t')\n",
    "        image_id = image_id.split('.')[0]\n",
    "\n",
    "        if image_id not in descriptions:\n",
    "            descriptions[image_id] = [image_des] \n",
    "        else:\n",
    "            descriptions[image_id].append(image_des)\n",
    "    return descriptions"
   ]
  },
  {
   "cell_type": "code",
   "execution_count": 8,
   "id": "bc37d9f6-7c6a-4786-b18a-058f74fa4df5",
   "metadata": {},
   "outputs": [],
   "source": [
    "def reduce_captions(descriptions, N=5):\n",
    "    \"\"\"\n",
    "    return image_id and given number of related captions as a dictionary\n",
    "    \"\"\"\n",
    "    descriptions_reduced = dict()\n",
    "    for image_id, captions in descriptions.items():\n",
    "        descriptions_reduced[image_id] = captions[0:N]\n",
    "    return descriptions_reduced"
   ]
  },
  {
   "cell_type": "code",
   "execution_count": 9,
   "id": "925117e9-2f13-468c-bc42-851d3f74d2c3",
   "metadata": {},
   "outputs": [],
   "source": [
    "def clean_captions(descriptions):\n",
    "    \"\"\"\n",
    "    clean the captions text. This function converts all words to lowercase, romves punctuation,\n",
    "    remove all words which are less than one character and removes words which include of numbers\n",
    "    \"\"\"\n",
    "    table = str.maketrans('','',string.punctuation)\n",
    "    for image_id,image_captions in descriptions.items():\n",
    "        for i,image_caption in enumerate(image_captions):\n",
    "            image_caption.replace(\"-\",\" \")\n",
    "            # split the captions into separate words\n",
    "            descp = image_caption.split()\n",
    "            #convert uppercase to lowercase\n",
    "            descp = [word.lower() for word in descp]\n",
    "            #remove punctuations\n",
    "            descp = [word.translate(table) for word in descp]\n",
    "            #remove words which are less than one character e.g. 's and a\n",
    "            descp = [word for word in descp if(len(word)>1)]\n",
    "            #remove words which include of numbers\n",
    "            descp = [word for word in descp if(word.isalpha())]\n",
    "            image_caption = 'startseq ' + ' '.join(descp) +  ' endseq'\n",
    "            descriptions[image_id][i]= image_caption\n",
    "    return descriptions"
   ]
  },
  {
   "cell_type": "code",
   "execution_count": 10,
   "id": "9c6b0a25-731b-4d91-a312-66346a84185a",
   "metadata": {},
   "outputs": [],
   "source": [
    "def save_celaned_captions(captions, filename):\n",
    "    \"\"\"\n",
    "    save cleaned captions in the given file\n",
    "    \"\"\"\n",
    "    lines = list()\n",
    "    for image_id, captions_list in captions.items():\n",
    "        for caption in captions_list:\n",
    "            lines.append(image_id + '\\t' + caption)\n",
    "    data = '\\n'.join(lines)\n",
    "    file = open(filename, 'w')\n",
    "    file.write(data)\n",
    "    file.close()"
   ]
  },
  {
   "cell_type": "code",
   "execution_count": 12,
   "id": "2c643754-5d36-4132-b18f-71db188f6509",
   "metadata": {},
   "outputs": [],
   "source": [
    "# load token text file\n",
    "text_filename = '../data/Flickr8k_text.txt'\n",
    "text = load_text_file(text_filename)"
   ]
  },
  {
   "cell_type": "code",
   "execution_count": 13,
   "id": "8e086b00-f269-45de-bda7-5eb4565c9451",
   "metadata": {},
   "outputs": [],
   "source": [
    "# extract the image id and related image captions\n",
    "descriptions = get_captions(text)"
   ]
  },
  {
   "cell_type": "code",
   "execution_count": 14,
   "id": "72504c1e-5378-4fa7-b8f8-7802b65c9592",
   "metadata": {
    "tags": []
   },
   "outputs": [],
   "source": [
    "descriptions  = reduce_captions(descriptions)"
   ]
  },
  {
   "cell_type": "code",
   "execution_count": 15,
   "id": "07a8cb4e-52df-4d85-b7f6-9506ec53d4d0",
   "metadata": {
    "tags": []
   },
   "outputs": [
    {
     "data": {
      "text/plain": [
       "8091"
      ]
     },
     "execution_count": 15,
     "metadata": {},
     "output_type": "execute_result"
    }
   ],
   "source": [
    "len(descriptions)"
   ]
  },
  {
   "cell_type": "code",
   "execution_count": 31,
   "id": "a998e6a0-f7ca-4f5f-93f9-49458e31ef6a",
   "metadata": {},
   "outputs": [],
   "source": [
    "cleaned_captions = clean_captions(descriptions)\n",
    "save_celaned_captions(cleaned_captions, '../data/cleaned_captions.txt')"
   ]
  },
  {
   "cell_type": "markdown",
   "id": "c79fb381-3592-42b8-a8f7-cc17da8b8146",
   "metadata": {},
   "source": [
    "### Text Data Encoding"
   ]
  },
  {
   "cell_type": "code",
   "execution_count": 17,
   "id": "5ee61bf2-c796-4f8e-81da-4d309b0a4c4a",
   "metadata": {},
   "outputs": [],
   "source": [
    "def caption_collector(descriptions):\n",
    "    \"\"\"\n",
    "    collect all the image captions and return them in one list\n",
    "    \"\"\"\n",
    "    all_captions = []\n",
    "    for image_id in descriptions:\n",
    "        for image_caption in descriptions[image_id]:\n",
    "            all_captions.append(image_caption)\n",
    "    return all_captions"
   ]
  },
  {
   "cell_type": "code",
   "execution_count": 18,
   "id": "4f4c61b5-6580-4f1c-9600-f62548422b89",
   "metadata": {},
   "outputs": [],
   "source": [
    "def build_tokenizer(descriptions):\n",
    "    \"\"\"\n",
    "    fit a tokenizer to a given caption descriptions\n",
    "    \"\"\"\n",
    "    all_captions_list = caption_collector(descriptions)\n",
    "    tokenizer = Tokenizer()\n",
    "    tokenizer.fit_on_texts(all_captions_list)\n",
    "    return tokenizer"
   ]
  },
  {
   "cell_type": "code",
   "execution_count": 19,
   "id": "27bfa826-106a-4b64-a754-167cd3ee30f0",
   "metadata": {},
   "outputs": [],
   "source": [
    "def max_length(descriptions):\n",
    "    \"\"\"\n",
    "    return the maximum length of the caption in the description\n",
    "    \"\"\"\n",
    "    all_captions_list = caption_collector(descriptions)\n",
    "    return max(len(caption.split()) for caption in all_captions_list)"
   ]
  },
  {
   "cell_type": "code",
   "execution_count": 20,
   "id": "693e1542-bab6-4e8b-a0b2-a4006de956e9",
   "metadata": {
    "tags": []
   },
   "outputs": [
    {
     "data": {
      "text/plain": [
       "8766"
      ]
     },
     "execution_count": 20,
     "metadata": {},
     "output_type": "execute_result"
    }
   ],
   "source": [
    "tokenizer = build_tokenizer(cleaned_captions)\n",
    "vocab_size = len(tokenizer.word_index) + 1\n",
    "vocab_size"
   ]
  },
  {
   "cell_type": "code",
   "execution_count": 21,
   "id": "7086c0d1-8400-44d0-aedc-9df7882c7ab1",
   "metadata": {},
   "outputs": [],
   "source": [
    "# save tokeinizer\n",
    "pickle.dump(tokenizer, open('../models/tokenizer.pkl', 'wb'))"
   ]
  },
  {
   "cell_type": "code",
   "execution_count": 22,
   "id": "133e526f-b75c-4ea4-ab63-299787d4f130",
   "metadata": {},
   "outputs": [],
   "source": [
    "max_len = max_length(cleaned_captions)"
   ]
  },
  {
   "cell_type": "markdown",
   "id": "8db5824c-4a94-4b42-ab1c-73bd23b377e1",
   "metadata": {},
   "source": [
    "### Train Validation Test Split"
   ]
  },
  {
   "cell_type": "code",
   "execution_count": 23,
   "id": "1b23ff6e-20e4-4296-b295-8ea1e0d4f66c",
   "metadata": {},
   "outputs": [],
   "source": [
    "def train_validation_test_split(descriptions, train_size = 0.74, validation_size = 0.13):\n",
    "    image_ids = list(descriptions.keys())\n",
    "\n",
    "    train_split = int(len(image_ids) * train_size)\n",
    "    validation_split = int(len(image_ids) * (train_size + validation_size))\n",
    "\n",
    "    train = image_ids[:train_split]\n",
    "    validation = image_ids[train_split:validation_split]\n",
    "    test = image_ids[validation_split:]\n",
    "    return train,validation,test"
   ]
  },
  {
   "cell_type": "code",
   "execution_count": 24,
   "id": "031654cb-20be-4be1-b6fa-a6bc879daaf5",
   "metadata": {},
   "outputs": [],
   "source": [
    "image_id_train,image_id_validation,image_id_test = train_validation_test_split(cleaned_captions)"
   ]
  },
  {
   "cell_type": "code",
   "execution_count": 25,
   "id": "b4e9af32-f5d4-4bce-98e5-55256c884ae7",
   "metadata": {},
   "outputs": [
    {
     "data": {
      "text/plain": [
       "(5987, 1052, 1052)"
      ]
     },
     "execution_count": 25,
     "metadata": {},
     "output_type": "execute_result"
    }
   ],
   "source": [
    "len(image_id_train),len(image_id_validation), len(image_id_test)"
   ]
  },
  {
   "cell_type": "code",
   "execution_count": 26,
   "id": "61becde2-13a3-46aa-b355-9ad3fbae3269",
   "metadata": {},
   "outputs": [],
   "source": [
    "def preprocessing(image_ids, cleaned_captions, features, max_len, tokenizer, vocab_size):\n",
    "    \"\"\"\n",
    "    prepare data to use in model\n",
    "    \"\"\"\n",
    "    X1, X2, y = list(), list(), list()\n",
    "    for image_id in image_ids:\n",
    "        captions = cleaned_captions[image_id]\n",
    "        for caption in captions: \n",
    "            text = tokenizer.texts_to_sequences([caption])[0]\n",
    "            for i in range(1,len(text)):\n",
    "                in_text, out_text = text[:i],text[i]\n",
    "                in_text = pad_sequences([in_text], maxlen=max_len)[0]\n",
    "                out_text = to_categorical([out_text], num_classes=vocab_size)[0]\n",
    "                X1.append(features[image_id][0])\n",
    "                X2.append(in_text)\n",
    "                y.append(out_text)\n",
    "    return np.array(X1,dtype='uint8'),np.array(X2,dtype='uint8'),np.array(y,dtype='uint8')"
   ]
  },
  {
   "cell_type": "markdown",
   "id": "746b101b-1f4e-4e38-bb64-008ecd169eb6",
   "metadata": {},
   "source": [
    "### Build The Model"
   ]
  },
  {
   "cell_type": "code",
   "execution_count": 27,
   "id": "022a4ec1-cf91-4c2c-8bdb-1dc9c844b395",
   "metadata": {},
   "outputs": [],
   "source": [
    "def build_model(vocab_size, max_len):\n",
    "    # image features from CNN model squeezed from 4096 to 256 nodes\n",
    "    inputs1 = Input(shape=(4096,))\n",
    "    fe1 = Dropout(0.5)(inputs1) \n",
    "    fe2 = Dense(1024, activation='relu')(fe1) \n",
    "    \n",
    "    # LSTM sequence model\n",
    "    inputs2 = Input(shape=(max_len,))\n",
    "    se1 = Embedding(vocab_size,1024, mask_zero=True)(inputs2) \n",
    "    se2 = Dropout(0.5)(se1) \n",
    "    se3 = LSTM(1024)(se2) \n",
    "    \n",
    "    # merge both models\n",
    "    decoder1 = add([fe2, se3])\n",
    "    decoder2 = Dense(256, activation='relu')(decoder1)\n",
    "    outputs = Dense(vocab_size, activation='softmax')(decoder2) \n",
    "    \n",
    "    # tie it together [image, seq] [word]\n",
    "    model = Model(inputs=[inputs1, inputs2], outputs=outputs)\n",
    "    # compile model\n",
    "    model.compile(loss='categorical_crossentropy', optimizer='adam',metrics=['accuracy'])\n",
    "    # summarize model\n",
    "    model.summary()\n",
    "    plot_model(model, to_file='../models/model.png', show_shapes=True)\n",
    "    return model"
   ]
  },
  {
   "cell_type": "code",
   "execution_count": 28,
   "id": "9534b58c-a7b3-4db4-b905-576ab81214d7",
   "metadata": {},
   "outputs": [
    {
     "name": "stdout",
     "output_type": "stream",
     "text": [
      "Model: \"model\"\n",
      "__________________________________________________________________________________________________\n",
      "Layer (type)                    Output Shape         Param #     Connected to                     \n",
      "==================================================================================================\n",
      "input_2 (InputLayer)            [(None, 34)]         0                                            \n",
      "__________________________________________________________________________________________________\n",
      "input_1 (InputLayer)            [(None, 4096)]       0                                            \n",
      "__________________________________________________________________________________________________\n",
      "embedding (Embedding)           (None, 34, 1024)     8976384     input_2[0][0]                    \n",
      "__________________________________________________________________________________________________\n",
      "dropout (Dropout)               (None, 4096)         0           input_1[0][0]                    \n",
      "__________________________________________________________________________________________________\n",
      "dropout_1 (Dropout)             (None, 34, 1024)     0           embedding[0][0]                  \n",
      "__________________________________________________________________________________________________\n",
      "dense (Dense)                   (None, 1024)         4195328     dropout[0][0]                    \n",
      "__________________________________________________________________________________________________\n",
      "lstm (LSTM)                     (None, 1024)         8392704     dropout_1[0][0]                  \n",
      "__________________________________________________________________________________________________\n",
      "add (Add)                       (None, 1024)         0           dense[0][0]                      \n",
      "                                                                 lstm[0][0]                       \n",
      "__________________________________________________________________________________________________\n",
      "dense_1 (Dense)                 (None, 256)          262400      add[0][0]                        \n",
      "__________________________________________________________________________________________________\n",
      "dense_2 (Dense)                 (None, 8766)         2252862     dense_1[0][0]                    \n",
      "==================================================================================================\n",
      "Total params: 24,079,678\n",
      "Trainable params: 24,079,678\n",
      "Non-trainable params: 0\n",
      "__________________________________________________________________________________________________\n"
     ]
    }
   ],
   "source": [
    "# build model\n",
    "model = build_model(vocab_size, max_len)"
   ]
  },
  {
   "cell_type": "code",
   "execution_count": 28,
   "id": "c2433909-b727-4c0a-8d29-11e600ef21ed",
   "metadata": {},
   "outputs": [],
   "source": [
    "X1_train, X2_train, y_train = preprocessing(image_id_train, cleaned_captions,\n",
    "                                            features, max_len, tokenizer, vocab_size)\n",
    "X1_val, X2_val, y_val = preprocessing(image_id_validation, cleaned_captions,\n",
    "                                      features, max_len, tokenizer, vocab_size)"
   ]
  },
  {
   "cell_type": "code",
   "execution_count": 29,
   "id": "b330c690-561f-414b-a662-c3794be4bd3c",
   "metadata": {},
   "outputs": [
    {
     "data": {
      "text/plain": [
       "((305475, 4096), (305475, 34), (305475, 8766), (53678, 4096))"
      ]
     },
     "execution_count": 29,
     "metadata": {},
     "output_type": "execute_result"
    }
   ],
   "source": [
    "X1_train.shape, X2_train.shape, y_train.shape, X1_val.shape"
   ]
  },
  {
   "cell_type": "code",
   "execution_count": 30,
   "id": "87c4a995-140a-42f5-bc7e-e4b5df1428e7",
   "metadata": {},
   "outputs": [],
   "source": [
    "# define checkpoint callback\n",
    "filepath = '../models/test/model-ep{epoch:03d}-loss{loss:.3f}-val_loss{val_loss:.3f}.h5'\n",
    "checkpoint = ModelCheckpoint(filepath, monitor='val_loss', verbose=1, save_best_only=True, mode='min')"
   ]
  },
  {
   "cell_type": "code",
   "execution_count": 31,
   "id": "ce10c425-783f-4c8b-a7a2-661a03e6afe6",
   "metadata": {
    "tags": []
   },
   "outputs": [
    {
     "name": "stdout",
     "output_type": "stream",
     "text": [
      "Epoch 1/10\n",
      "204/204 [==============================] - ETA: 0s - loss: 4.8839 - accuracy: 0.1900\n",
      "Epoch 00001: val_loss improved from inf to 4.31922, saving model to ../models/test/model-ep001-loss4.884-val_loss4.319.h5\n"
     ]
    },
    {
     "name": "stderr",
     "output_type": "stream",
     "text": [
      "/opt/sw1/public/python/3.9.2-infiniband/lib/python3.9/site-packages/keras/engine/functional.py:1410: CustomMaskWarning: Custom mask layers require a config and must override get_config. When loading, the custom mask layer must be passed to the custom_objects argument.\n",
      "  layer_config = serialize_layer_fn(layer)\n"
     ]
    },
    {
     "name": "stdout",
     "output_type": "stream",
     "text": [
      "204/204 [==============================] - 86s 409ms/step - loss: 4.8839 - accuracy: 0.1900 - val_loss: 4.3192 - val_accuracy: 0.2392\n",
      "Epoch 2/10\n",
      "204/204 [==============================] - ETA: 0s - loss: 3.7717 - accuracy: 0.2803\n",
      "Epoch 00002: val_loss improved from 4.31922 to 4.03544, saving model to ../models/test/model-ep002-loss3.772-val_loss4.035.h5\n",
      "204/204 [==============================] - 84s 413ms/step - loss: 3.7717 - accuracy: 0.2803 - val_loss: 4.0354 - val_accuracy: 0.2653\n",
      "Epoch 3/10\n",
      "204/204 [==============================] - ETA: 0s - loss: 3.3374 - accuracy: 0.3153\n",
      "Epoch 00003: val_loss improved from 4.03544 to 3.97794, saving model to ../models/test/model-ep003-loss3.337-val_loss3.978.h5\n",
      "204/204 [==============================] - 84s 412ms/step - loss: 3.3374 - accuracy: 0.3153 - val_loss: 3.9779 - val_accuracy: 0.2746\n",
      "Epoch 4/10\n",
      "204/204 [==============================] - ETA: 0s - loss: 3.0324 - accuracy: 0.3427\n",
      "Epoch 00004: val_loss did not improve from 3.97794\n",
      "204/204 [==============================] - 73s 357ms/step - loss: 3.0324 - accuracy: 0.3427 - val_loss: 3.9867 - val_accuracy: 0.2801\n",
      "Epoch 5/10\n",
      "204/204 [==============================] - ETA: 0s - loss: 2.7995 - accuracy: 0.3655\n",
      "Epoch 00005: val_loss did not improve from 3.97794\n",
      "204/204 [==============================] - 74s 363ms/step - loss: 2.7995 - accuracy: 0.3655 - val_loss: 4.0309 - val_accuracy: 0.2840\n",
      "Epoch 6/10\n",
      "204/204 [==============================] - ETA: 0s - loss: 2.6157 - accuracy: 0.3861\n",
      "Epoch 00006: val_loss did not improve from 3.97794\n",
      "204/204 [==============================] - 74s 363ms/step - loss: 2.6157 - accuracy: 0.3861 - val_loss: 4.0941 - val_accuracy: 0.2860\n",
      "Epoch 7/10\n",
      "204/204 [==============================] - ETA: 0s - loss: 2.4628 - accuracy: 0.4064\n",
      "Epoch 00007: val_loss did not improve from 3.97794\n",
      "204/204 [==============================] - 75s 366ms/step - loss: 2.4628 - accuracy: 0.4064 - val_loss: 4.1604 - val_accuracy: 0.2823\n",
      "Epoch 8/10\n",
      "204/204 [==============================] - ETA: 0s - loss: 2.3360 - accuracy: 0.4242\n",
      "Epoch 00008: val_loss did not improve from 3.97794\n",
      "204/204 [==============================] - 74s 362ms/step - loss: 2.3360 - accuracy: 0.4242 - val_loss: 4.2135 - val_accuracy: 0.2876\n",
      "Epoch 9/10\n",
      "204/204 [==============================] - ETA: 0s - loss: 2.2235 - accuracy: 0.4418\n",
      "Epoch 00009: val_loss did not improve from 3.97794\n",
      "204/204 [==============================] - 74s 363ms/step - loss: 2.2235 - accuracy: 0.4418 - val_loss: 4.2615 - val_accuracy: 0.2848\n",
      "Epoch 10/10\n",
      "204/204 [==============================] - ETA: 0s - loss: 2.1238 - accuracy: 0.4578\n",
      "Epoch 00010: val_loss did not improve from 3.97794\n",
      "204/204 [==============================] - 74s 363ms/step - loss: 2.1238 - accuracy: 0.4578 - val_loss: 4.3367 - val_accuracy: 0.2888\n"
     ]
    }
   ],
   "source": [
    "# clear Keras backend session\n",
    "K.clear_session()\n",
    "hist = model.fit([X1_train, X2_train], y_train, \n",
    "                  epochs=10, verbose=1, batch_size=1500,callbacks=[checkpoint],\n",
    "                  validation_data=([X1_val, X2_val], y_val))"
   ]
  },
  {
   "cell_type": "code",
   "execution_count": 32,
   "id": "ef1c560c-bd21-4667-9974-b3dde72741c5",
   "metadata": {},
   "outputs": [
    {
     "data": {
      "image/png": "[encoded data removed]",
      "text/plain": [
       "<Figure size 432x288 with 1 Axes>"
      ]
     },
     "metadata": {
      "needs_background": "light"
     },
     "output_type": "display_data"
    }
   ],
   "source": [
    "for label in ['loss','val_loss']:\n",
    "    plt.plot(hist.history[label],label=label)\n",
    "plt.legend()\n",
    "plt.xlabel(\"epochs\")\n",
    "plt.ylabel(\"loss\")\n",
    "#plt.savefig('loos.jpeg')\n",
    "plt.show()"
   ]
  },
  {
   "cell_type": "code",
   "execution_count": 33,
   "id": "d731ab20-62ed-460f-afe8-10e54f16a04e",
   "metadata": {},
   "outputs": [
    {
     "data": {
      "image/png": "[encoded data removed]",
      "text/plain": [
       "<Figure size 432x288 with 1 Axes>"
      ]
     },
     "metadata": {
      "needs_background": "light"
     },
     "output_type": "display_data"
    }
   ],
   "source": [
    "for label in ['accuracy','val_accuracy']:\n",
    "    plt.plot(hist.history[label],label=label)\n",
    "plt.legend()\n",
    "plt.xlabel(\"epochs\")\n",
    "plt.ylabel(\"accuracy\")\n",
    "#plt.savefig('accuracy.jpeg')\n",
    "plt.show()"
   ]
  },
  {
   "cell_type": "markdown",
   "id": "8e9b1876-bf19-41d8-b164-c8106ac6033a",
   "metadata": {},
   "source": [
    "### Evaluate Model"
   ]
  },
  {
   "cell_type": "code",
   "execution_count": 33,
   "id": "dc77a955-9102-47ec-94fc-4d04290dad68",
   "metadata": {},
   "outputs": [],
   "source": [
    "def predict_caption(model,feature,tokenizer,max_len): # image_feature instead of image\n",
    "    in_text = 'startseq'\n",
    "    for i in range(max_len):\n",
    "        seq = tokenizer.texts_to_sequences([in_text])[0]\n",
    "        seq = pad_sequences([seq],max_len)\n",
    "        y_pred = model.predict([feature,seq],verbose = 0)\n",
    "        y_pred = np.argmax(y_pred)\n",
    "        new_word = index_to_word[y_pred]\n",
    "        if new_word is None:\n",
    "            break\n",
    "        in_text += \" \" + new_word\n",
    "        if new_word == \"endseq\":\n",
    "            break       \n",
    "    return in_text"
   ]
  },
  {
   "cell_type": "code",
   "execution_count": 34,
   "id": "6a2eb4de-97e8-4baa-b616-06b39d59cda1",
   "metadata": {},
   "outputs": [],
   "source": [
    "def generate_caption(image_id):\n",
    "    bleu = 0    \n",
    "    image_path = '../data/Flicker8k_Dataset/' + image_id + '.jpg'\n",
    "    img = load_img(image_path,target_size=(224, 224))\n",
    "    captions = cleaned_captions[image_id]\n",
    "    y_pred = predict_caption(model, features[image_id],tokenizer,max_len)\n",
    "    print('----Actual----')\n",
    "    for caption in captions:\n",
    "        caption= caption.split()[1:-1]\n",
    "        caption =  \" \".join(caption)\n",
    "        bleu += sentence_bleu([caption],y_pred)\n",
    "        print(caption)\n",
    "    print('\\n')\n",
    "    \n",
    "    print('---Predicted----')\n",
    "    y_pred = y_pred.split()[1:-1]\n",
    "    y_pred =  \" \".join(y_pred)\n",
    "    print(y_pred)\n",
    "    bleu = bleu / len(captions)\n",
    "    print('\\n')\n",
    "    print(f'BLEU= {bleu}')\n",
    "    plt.imshow(img)\n",
    "    return bleu"
   ]
  },
  {
   "cell_type": "code",
   "execution_count": 40,
   "id": "f57a1cca-8148-46d9-bdac-3557e11a07de",
   "metadata": {},
   "outputs": [],
   "source": [
    "def generate_caption(image_id):\n",
    "    actuals = []\n",
    "    bleu = 0    \n",
    "    image_path = '../data/Flicker8k_Dataset/' + image_id + '.jpg'\n",
    "    img = load_img(image_path,target_size=(224, 224))\n",
    "    captions = cleaned_captions[image_id]\n",
    "    y_pred = predict_caption(model, features[image_id],tokenizer,max_len)\n",
    "    print('----Actual----')\n",
    "    for caption in captions:\n",
    "        caption= caption.split()[1:-1]\n",
    "        actuals.append(caption)\n",
    "        caption =  \" \".join(caption)\n",
    "        bleu += sentence_bleu([caption],y_pred)\n",
    "        print(caption)\n",
    "    print('\\n')\n",
    "    \n",
    "    print('---Predicted----')\n",
    "    y_pred = y_pred.split()[1:-1]\n",
    "    y_pred =  \" \".join(y_pred)\n",
    "    print(y_pred)\n",
    "    bleu = bleu / len(captions)\n",
    "    print('\\n')\n",
    "    print(f'BLEU= {bleu}')\n",
    "    plt.imshow(img)\n",
    "    return bleu,y_pred"
   ]
  },
  {
   "cell_type": "code",
   "execution_count": 37,
   "id": "83d13756-e310-445a-94a3-a6ef2ae2c910",
   "metadata": {},
   "outputs": [],
   "source": [
    "model = load_model('../models/test/model-ep003-loss3.337-val_loss3.978.h5')"
   ]
  },
  {
   "cell_type": "code",
   "execution_count": 38,
   "id": "7be9c86d-a328-4202-8f64-72cfb8b52986",
   "metadata": {},
   "outputs": [],
   "source": [
    "index_to_word = dict([(index,word) for word, index in tokenizer.word_index.items()])"
   ]
  },
  {
   "cell_type": "code",
   "execution_count": 46,
   "id": "b1af2ae1-a5e5-4f6f-9578-fcb48e4c7820",
   "metadata": {},
   "outputs": [
    {
     "name": "stdout",
     "output_type": "stream",
     "text": [
      "----Actual----\n",
      "two people leaning against railing outside the enterance of building\n",
      "two people standing on porch\n",
      "two woman stand near door\n",
      "two women standing outside community library\n",
      "two women stand outside library\n",
      "\n",
      "\n",
      "---Predicted----\n",
      "man and woman sit on the top of the window\n",
      "\n",
      "\n",
      "BLEU= 0.15199764854906278\n"
     ]
    },
    {
     "data": {
      "image/png": "[encoded data removed]",
      "text/plain": [
       "<Figure size 432x288 with 1 Axes>"
      ]
     },
     "metadata": {
      "needs_background": "light"
     },
     "output_type": "display_data"
    }
   ],
   "source": [
    "_,ypred = generate_caption(image_id_test[4])"
   ]
  },
  {
   "cell_type": "markdown",
   "id": "7d5a087e-0ca7-4e80-b589-a49132c7b2f4",
   "metadata": {},
   "source": [
    "If a machine is trying to generate text in cases like translation and summarization, measurement is more complex. In fact, no two humans will generate the same text. Metrics such as BLEU - Wikipedia, ROUGE (metric) - Wikipedia, and others, usually come into play."
   ]
  },
  {
   "cell_type": "code",
   "execution_count": null,
   "id": "e82c0d59-0abf-41fc-8506-3ce80422dc09",
   "metadata": {},
   "outputs": [],
   "source": []
  },
  {
   "cell_type": "code",
   "execution_count": null,
   "id": "93c78fa7-299c-4b8e-9cdc-df856ddced19",
   "metadata": {},
   "outputs": [],
   "source": []
  },
  {
   "cell_type": "code",
   "execution_count": null,
   "id": "14aee5a3-53e2-487c-a71b-2c8f8a98fd4b",
   "metadata": {},
   "outputs": [],
   "source": []
  },
  {
   "cell_type": "code",
   "execution_count": null,
   "id": "7885e749-30c2-4165-91f9-b80b2d756233",
   "metadata": {},
   "outputs": [],
   "source": []
  }
 ],
 "metadata": {
  "kernelspec": {
   "display_name": "Python 3",
   "language": "python",
   "name": "python3"
  },
  "language_info": {
   "codemirror_mode": {
    "name": "ipython",
    "version": 3
   },
   "file_extension": ".py",
   "mimetype": "text/x-python",
   "name": "python",
   "nbconvert_exporter": "python",
   "pygments_lexer": "ipython3",
   "version": "3.6.13"
  }
 },
 "nbformat": 4,
 "nbformat_minor": 5
}
