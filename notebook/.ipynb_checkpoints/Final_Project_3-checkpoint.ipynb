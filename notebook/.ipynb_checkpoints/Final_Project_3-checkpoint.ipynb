{
 "cells": [
  {
   "cell_type": "code",
   "execution_count": 18,
   "id": "51358f7a-ecd1-4293-92e5-0b08411c2d9f",
   "metadata": {},
   "outputs": [],
   "source": [
    "# import libraries\n",
    "import os\n",
    "import random\n",
    "import numpy as np\n",
    "import pickle\n",
    "import string\n",
    "from tqdm import tqdm\n",
    "import matplotlib.pyplot as plt\n",
    "\n",
    "\n",
    "from tensorflow.keras.applications.vgg16 import VGG16, preprocess_input\n",
    "from tensorflow.keras.preprocessing.image import load_img\n",
    "from tensorflow.keras.models import Model, load_model\n",
    "from tensorflow.keras.layers import Input, Dense, LSTM, Embedding, Dropout, add\n",
    "from tensorflow.keras.preprocessing.text import Tokenizer\n",
    "from tensorflow.keras.preprocessing.sequence import pad_sequences\n",
    "from tensorflow.keras.utils import to_categorical, plot_model\n",
    "from tensorflow.keras import backend as K\n",
    "from tensorflow.keras.callbacks import EarlyStopping\n",
    "from tensorflow.keras.callbacks import ModelCheckpoint\n",
    "\n",
    "from nltk.translate.bleu_score import corpus_bleu\n",
    "from nltk.translate.bleu_score import sentence_bleu"
   ]
  },
  {
   "cell_type": "code",
   "execution_count": 19,
   "id": "fefc14fa-13ce-4214-a39c-2742428f8e68",
   "metadata": {},
   "outputs": [],
   "source": [
    "with open('features.pkl', 'rb') as f:\n",
    "    features = pickle.load(f)"
   ]
  },
  {
   "cell_type": "code",
   "execution_count": 21,
   "id": "f0214141-54aa-4b90-b6ed-a54f9b58d8ca",
   "metadata": {},
   "outputs": [
    {
     "data": {
      "text/plain": [
       "8091"
      ]
     },
     "execution_count": 21,
     "metadata": {},
     "output_type": "execute_result"
    }
   ],
   "source": [
    "len(features.keys())"
   ]
  },
  {
   "cell_type": "markdown",
   "id": "86f6e27f-4ceb-423e-b033-943a68113032",
   "metadata": {},
   "source": [
    "### Text Data Cleaning"
   ]
  },
  {
   "cell_type": "code",
   "execution_count": 22,
   "id": "f52aeb7d-9246-44c3-acb8-f24e71cdac33",
   "metadata": {},
   "outputs": [],
   "source": [
    "def load_text_file(filepath):\n",
    "    \"\"\"\n",
    "    load text file from given filepath\n",
    "    \"\"\"\n",
    "    with open(filepath,'r') as file:\n",
    "        text = file.read()\n",
    "    file.close()\n",
    "    return text"
   ]
  },
  {
   "cell_type": "code",
   "execution_count": 23,
   "id": "f121ca21-390f-4593-8bad-2d2c2ca39a75",
   "metadata": {},
   "outputs": [],
   "source": [
    "def get_captions(text):\n",
    "    \"\"\"\n",
    "    extract the image id and related image captions from text file and \n",
    "    retuern them in a dict.\n",
    "    \"\"\"\n",
    "    \n",
    "    captions = text.split('\\n')\n",
    "    descriptions = {}\n",
    "    for caption in captions[:-1]:\n",
    "        image_id , image_des = caption.split('\\t')\n",
    "        image_id = image_id.split('.')[0]\n",
    "\n",
    "        if image_id not in descriptions:\n",
    "            descriptions[image_id] = [image_des] \n",
    "        else:\n",
    "            descriptions[image_id].append(image_des)\n",
    "    return descriptions"
   ]
  },
  {
   "cell_type": "code",
   "execution_count": 24,
   "id": "bc37d9f6-7c6a-4786-b18a-058f74fa4df5",
   "metadata": {},
   "outputs": [],
   "source": [
    "def reduce_captions(descriptions, N=5):\n",
    "    \"\"\"\n",
    "    return image_id and given number of related captions as a dictionary\n",
    "    \"\"\"\n",
    "    descriptions_reduced = dict()\n",
    "    for image_id, captions in descriptions.items():\n",
    "        descriptions_reduced[image_id] = captions[0:N]\n",
    "    return descriptions_reduced"
   ]
  },
  {
   "cell_type": "code",
   "execution_count": 25,
   "id": "925117e9-2f13-468c-bc42-851d3f74d2c3",
   "metadata": {},
   "outputs": [],
   "source": [
    "def clean_captions(descriptions):\n",
    "    \"\"\"\n",
    "    clean the captions text. This function converts all words to lowercase, romves punctuation,\n",
    "    remove all words which are less than one character and removes words which include of numbers\n",
    "    \"\"\"\n",
    "    table = str.maketrans('','',string.punctuation)\n",
    "    for image_id,image_captions in descriptions.items():\n",
    "        for i,image_caption in enumerate(image_captions):\n",
    "            image_caption.replace(\"-\",\" \")\n",
    "            # split the captions into separate words\n",
    "            descp = image_caption.split()\n",
    "            #convert uppercase to lowercase\n",
    "            descp = [word.lower() for word in descp]\n",
    "            #print(descp)\n",
    "            #remove punctuations\n",
    "            descp = [word.translate(table) for word in descp]\n",
    "            #remove words which are less than one character e.g. 's and a\n",
    "            descp = [word for word in descp if(len(word)>1)]\n",
    "            #remove words which include of numbers\n",
    "            descp = [word for word in descp if(word.isalpha())]\n",
    "            image_caption = 'startseq ' + ' '.join(descp) +  ' endseq'\n",
    "            descriptions[image_id][i]= image_caption\n",
    "    return descriptions"
   ]
  },
  {
   "cell_type": "code",
   "execution_count": 9,
   "id": "9c6b0a25-731b-4d91-a312-66346a84185a",
   "metadata": {},
   "outputs": [],
   "source": [
    "def save_celaned_captions(captions, filename):\n",
    "    \"\"\"\n",
    "    save cleaned captions in the given file\n",
    "    \"\"\"\n",
    "    lines = list()\n",
    "    for image_id, captions_list in captions.items():\n",
    "        for caption in captions_list:\n",
    "            lines.append(image_id + '\\t' + caption)\n",
    "    data = '\\n'.join(lines)\n",
    "    file = open(filename, 'w')\n",
    "    file.write(data)\n",
    "    file.close()"
   ]
  },
  {
   "cell_type": "code",
   "execution_count": 26,
   "id": "2c643754-5d36-4132-b18f-71db188f6509",
   "metadata": {},
   "outputs": [],
   "source": [
    "# load token text file\n",
    "text_filename = '../data/Flickr8k_text/Flickr8k.token2.txt'\n",
    "text = load_text_file(text_filename)"
   ]
  },
  {
   "cell_type": "code",
   "execution_count": 27,
   "id": "8e086b00-f269-45de-bda7-5eb4565c9451",
   "metadata": {},
   "outputs": [],
   "source": [
    "# extract the image id and related image captions\n",
    "descriptions = get_captions(text)"
   ]
  },
  {
   "cell_type": "code",
   "execution_count": 28,
   "id": "72504c1e-5378-4fa7-b8f8-7802b65c9592",
   "metadata": {
    "tags": []
   },
   "outputs": [],
   "source": [
    "descriptions  = reduce_captions(descriptions)"
   ]
  },
  {
   "cell_type": "code",
   "execution_count": 29,
   "id": "07a8cb4e-52df-4d85-b7f6-9506ec53d4d0",
   "metadata": {
    "tags": []
   },
   "outputs": [
    {
     "data": {
      "text/plain": [
       "8091"
      ]
     },
     "execution_count": 29,
     "metadata": {},
     "output_type": "execute_result"
    }
   ],
   "source": [
    "len(descriptions)"
   ]
  },
  {
   "cell_type": "code",
   "execution_count": 14,
   "id": "a998e6a0-f7ca-4f5f-93f9-49458e31ef6a",
   "metadata": {},
   "outputs": [],
   "source": [
    "cleaned_captions = clean_captions(descriptions)\n",
    "save_celaned_captions(cleaned_captions, '../data/cleaned_captions.txt')"
   ]
  },
  {
   "cell_type": "markdown",
   "id": "c79fb381-3592-42b8-a8f7-cc17da8b8146",
   "metadata": {},
   "source": [
    "### Text Data Encoding"
   ]
  },
  {
   "cell_type": "code",
   "execution_count": 30,
   "id": "5ee61bf2-c796-4f8e-81da-4d309b0a4c4a",
   "metadata": {},
   "outputs": [],
   "source": [
    "def caption_collector(descriptions):\n",
    "    \"\"\"\n",
    "    collect all the image captions and return them in one list\n",
    "    \"\"\"\n",
    "    all_captions = []\n",
    "    for image_id in descriptions:\n",
    "        for image_caption in descriptions[image_id]:\n",
    "            all_captions.append(image_caption)\n",
    "    return all_captions"
   ]
  },
  {
   "cell_type": "code",
   "execution_count": 31,
   "id": "4f4c61b5-6580-4f1c-9600-f62548422b89",
   "metadata": {},
   "outputs": [],
   "source": [
    "def build_tokenizer(descriptions):\n",
    "    \"\"\"\n",
    "    fit a tokenizer to a given caption descriptions\n",
    "    \"\"\"\n",
    "    all_captions_list = caption_collector(descriptions)\n",
    "    tokenizer = Tokenizer()\n",
    "    tokenizer.fit_on_texts(all_captions_list)\n",
    "    return tokenizer"
   ]
  },
  {
   "cell_type": "code",
   "execution_count": 32,
   "id": "27bfa826-106a-4b64-a754-167cd3ee30f0",
   "metadata": {},
   "outputs": [],
   "source": [
    "def max_length(descriptions):\n",
    "    \"\"\"\n",
    "    return the maximum length of the caption in the description\n",
    "    \"\"\"\n",
    "    all_captions_list = caption_collector(descriptions)\n",
    "    return max(len(caption.split()) for caption in all_captions_list)"
   ]
  },
  {
   "cell_type": "code",
   "execution_count": 33,
   "id": "693e1542-bab6-4e8b-a0b2-a4006de956e9",
   "metadata": {
    "tags": []
   },
   "outputs": [
    {
     "data": {
      "text/plain": [
       "8766"
      ]
     },
     "execution_count": 33,
     "metadata": {},
     "output_type": "execute_result"
    }
   ],
   "source": [
    "tokenizer = build_tokenizer(cleaned_captions)\n",
    "vocab_size = len(tokenizer.word_index) + 1\n",
    "vocab_size"
   ]
  },
  {
   "cell_type": "code",
   "execution_count": 56,
   "id": "4ec7b0e7-dfa9-48f7-b4d0-b335c8db6b9f",
   "metadata": {},
   "outputs": [],
   "source": [
    "pickle.dump(tokenizer, open('tokenizer.pkl', 'wb'))"
   ]
  },
  {
   "cell_type": "code",
   "execution_count": 34,
   "id": "133e526f-b75c-4ea4-ab63-299787d4f130",
   "metadata": {},
   "outputs": [
    {
     "data": {
      "text/plain": [
       "34"
      ]
     },
     "execution_count": 34,
     "metadata": {},
     "output_type": "execute_result"
    }
   ],
   "source": [
    "max_len = max_length(cleaned_captions)\n",
    "max_len"
   ]
  },
  {
   "cell_type": "markdown",
   "id": "8db5824c-4a94-4b42-ab1c-73bd23b377e1",
   "metadata": {},
   "source": [
    "### Train Validation Test Split"
   ]
  },
  {
   "cell_type": "code",
   "execution_count": 35,
   "id": "1b23ff6e-20e4-4296-b295-8ea1e0d4f66c",
   "metadata": {},
   "outputs": [],
   "source": [
    "def train_validation_test_split(descriptions, train_size = 0.60, validation_size = 0.20):\n",
    "    image_ids = list(descriptions.keys())\n",
    "    random.shuffle(image_ids)\n",
    "\n",
    "    train_split = int(len(image_ids) * train_size)\n",
    "    validation_split = int(len(image_ids) * (train_size + validation_size))\n",
    "\n",
    "    train = image_ids[:train_split]\n",
    "    validation = image_ids[train_split:validation_split]\n",
    "    test = image_ids[validation_split:]\n",
    "    return train,validation,test"
   ]
  },
  {
   "cell_type": "code",
   "execution_count": 36,
   "id": "031654cb-20be-4be1-b6fa-a6bc879daaf5",
   "metadata": {},
   "outputs": [],
   "source": [
    "image_id_train,image_id_validation,image_id_test = train_validation_test_split(cleaned_captions)"
   ]
  },
  {
   "cell_type": "code",
   "execution_count": 37,
   "id": "b4e9af32-f5d4-4bce-98e5-55256c884ae7",
   "metadata": {},
   "outputs": [
    {
     "data": {
      "text/plain": [
       "(4854, 1618, 1619)"
      ]
     },
     "execution_count": 37,
     "metadata": {},
     "output_type": "execute_result"
    }
   ],
   "source": [
    "len(image_id_train),len(image_id_validation), len(image_id_test)"
   ]
  },
  {
   "cell_type": "code",
   "execution_count": 38,
   "id": "61becde2-13a3-46aa-b355-9ad3fbae3269",
   "metadata": {},
   "outputs": [],
   "source": [
    "def preprocessing(image_ids, cleaned_captions, features, max_len, tokenizer, vocab_size):\n",
    "    \"\"\"\n",
    "    ??\n",
    "    \"\"\"\n",
    "    X1, X2, y = list(), list(), list()\n",
    "    for image_id in image_ids:\n",
    "        captions = cleaned_captions[image_id]\n",
    "        for caption in captions: \n",
    "            text = tokenizer.texts_to_sequences([caption])[0]\n",
    "            for i in range(1,len(text)):\n",
    "                in_text, out_text = text[:i],text[i]\n",
    "                in_text = pad_sequences([in_text], maxlen=max_len)[0]\n",
    "                out_text = to_categorical([out_text], num_classes=vocab_size)[0]\n",
    "                X1.append(features[image_id][0])\n",
    "                X2.append(in_text)\n",
    "                y.append(out_text)\n",
    "    return np.array(X1),np.array(X2),np.array(y)"
   ]
  },
  {
   "cell_type": "markdown",
   "id": "746b101b-1f4e-4e38-bb64-008ecd169eb6",
   "metadata": {},
   "source": [
    "### Build The Model"
   ]
  },
  {
   "cell_type": "code",
   "execution_count": 23,
   "id": "022a4ec1-cf91-4c2c-8bdb-1dc9c844b395",
   "metadata": {},
   "outputs": [],
   "source": [
    "def build_model(vocab_size, max_len):\n",
    "    # encoder model\n",
    "    # image features from CNN model squeezed from 4096 to 256 nodes\n",
    "    inputs1 = Input(shape=(4096,))\n",
    "    fe1 = Dropout(0.5)(inputs1) # change to 0.3 or 0.2\n",
    "    fe2 = Dense(256, activation='relu')(fe1)\n",
    "    \n",
    "    # LSTM sequence model\n",
    "    inputs2 = Input(shape=(max_len,))\n",
    "    se1 = Embedding(vocab_size, 64, mask_zero=True)(inputs2) # change 256 to 64\n",
    "    se2 = Dropout(0.5)(se1) # change to 0.3 or 0.2\n",
    "    se3 = LSTM(256)(se2)\n",
    "    \n",
    "    # decoder model\n",
    "    # merge both models\n",
    "    decoder1 = add([fe2, se3])\n",
    "    decoder2 = Dense(256, activation='relu')(decoder1)\n",
    "    outputs = Dense(vocab_size, activation='softmax')(decoder2) # test sigmoid\n",
    "    \n",
    "    # tie it together [image, seq] [word]\n",
    "    model = Model(inputs=[inputs1, inputs2], outputs=outputs)\n",
    "    # compile model\n",
    "    model.compile(loss='categorical_crossentropy', optimizer='adam')\n",
    "    # summarize model\n",
    "    model.summary()\n",
    "    plot_model(model, to_file='model.png', show_shapes=True)\n",
    "    return model"
   ]
  },
  {
   "cell_type": "code",
   "execution_count": 24,
   "id": "9534b58c-a7b3-4db4-b905-576ab81214d7",
   "metadata": {},
   "outputs": [
    {
     "name": "stdout",
     "output_type": "stream",
     "text": [
      "Model: \"model\"\n",
      "__________________________________________________________________________________________________\n",
      "Layer (type)                    Output Shape         Param #     Connected to                     \n",
      "==================================================================================================\n",
      "input_2 (InputLayer)            [(None, 34)]         0                                            \n",
      "__________________________________________________________________________________________________\n",
      "input_1 (InputLayer)            [(None, 4096)]       0                                            \n",
      "__________________________________________________________________________________________________\n",
      "embedding (Embedding)           (None, 34, 64)       561024      input_2[0][0]                    \n",
      "__________________________________________________________________________________________________\n",
      "dropout (Dropout)               (None, 4096)         0           input_1[0][0]                    \n",
      "__________________________________________________________________________________________________\n",
      "dropout_1 (Dropout)             (None, 34, 64)       0           embedding[0][0]                  \n",
      "__________________________________________________________________________________________________\n",
      "dense (Dense)                   (None, 256)          1048832     dropout[0][0]                    \n",
      "__________________________________________________________________________________________________\n",
      "lstm (LSTM)                     (None, 256)          328704      dropout_1[0][0]                  \n",
      "__________________________________________________________________________________________________\n",
      "add (Add)                       (None, 256)          0           dense[0][0]                      \n",
      "                                                                 lstm[0][0]                       \n",
      "__________________________________________________________________________________________________\n",
      "dense_1 (Dense)                 (None, 256)          65792       add[0][0]                        \n",
      "__________________________________________________________________________________________________\n",
      "dense_2 (Dense)                 (None, 8766)         2252862     dense_1[0][0]                    \n",
      "==================================================================================================\n",
      "Total params: 4,257,214\n",
      "Trainable params: 4,257,214\n",
      "Non-trainable params: 0\n",
      "__________________________________________________________________________________________________\n"
     ]
    }
   ],
   "source": [
    "# build model\n",
    "model = build_model(vocab_size, max_len)"
   ]
  },
  {
   "cell_type": "code",
   "execution_count": 39,
   "id": "c2433909-b727-4c0a-8d29-11e600ef21ed",
   "metadata": {},
   "outputs": [],
   "source": [
    "X1_train, X2_train, y_train = preprocessing(image_id_train, cleaned_captions,\n",
    "                                            features, max_len, tokenizer, vocab_size)\n",
    "X1_val, X2_val, y_val = preprocessing(image_id_validation, cleaned_captions,\n",
    "                                      features, max_len, tokenizer, vocab_size)"
   ]
  },
  {
   "cell_type": "code",
   "execution_count": 41,
   "id": "b330c690-561f-414b-a662-c3794be4bd3c",
   "metadata": {},
   "outputs": [
    {
     "data": {
      "text/plain": [
       "((248163, 4096), (248163, 34), (248163, 8766), (82530, 4096))"
      ]
     },
     "execution_count": 41,
     "metadata": {},
     "output_type": "execute_result"
    }
   ],
   "source": [
    "X1_train.shape, X2_train.shape, y_train.shape,X1_val.shape"
   ]
  },
  {
   "cell_type": "code",
   "execution_count": 27,
   "id": "87c4a995-140a-42f5-bc7e-e4b5df1428e7",
   "metadata": {},
   "outputs": [],
   "source": [
    "# define checkpoint callback\n",
    "filepath = './models_5_4800_64/model-ep{epoch:03d}-loss{loss:.3f}-val_loss{val_loss:.3f}.h5'\n",
    "checkpoint = ModelCheckpoint(filepath, monitor='val_loss', verbose=1, save_best_only=True, mode='min')"
   ]
  },
  {
   "cell_type": "code",
   "execution_count": 28,
   "id": "ce10c425-783f-4c8b-a7a2-661a03e6afe6",
   "metadata": {
    "tags": []
   },
   "outputs": [
    {
     "name": "stdout",
     "output_type": "stream",
     "text": [
      "Epoch 1/5\n",
      "826/826 [==============================] - 516s 620ms/step - loss: 4.8211 - val_loss: 4.2848\n",
      "\n",
      "Epoch 00001: val_loss improved from inf to 4.28484, saving model to ./models_4_4800_64/model-ep001-loss4.821-val_loss4.285.h5\n"
     ]
    },
    {
     "name": "stderr",
     "output_type": "stream",
     "text": [
      "/Users/admin/opt/anaconda3/envs/deep_learning/lib/python3.6/site-packages/keras/utils/generic_utils.py:497: CustomMaskWarning: Custom mask layers require a config and must override get_config. When loading, the custom mask layer must be passed to the custom_objects argument.\n",
      "  category=CustomMaskWarning)\n"
     ]
    },
    {
     "name": "stdout",
     "output_type": "stream",
     "text": [
      "Epoch 2/5\n",
      "826/826 [==============================] - 761s 921ms/step - loss: 3.8248 - val_loss: 4.0453\n",
      "\n",
      "Epoch 00002: val_loss improved from 4.28484 to 4.04534, saving model to ./models_4_4800_64/model-ep002-loss3.825-val_loss4.045.h5\n",
      "Epoch 3/5\n",
      "826/826 [==============================] - 902s 1s/step - loss: 3.4622 - val_loss: 4.0193\n",
      "\n",
      "Epoch 00003: val_loss improved from 4.04534 to 4.01929, saving model to ./models_4_4800_64/model-ep003-loss3.462-val_loss4.019.h5\n",
      "Epoch 4/5\n",
      "826/826 [==============================] - 1341s 2s/step - loss: 3.2258 - val_loss: 4.0382\n",
      "\n",
      "Epoch 00004: val_loss did not improve from 4.01929\n",
      "Epoch 5/5\n",
      "826/826 [==============================] - 1359s 2s/step - loss: 3.0407 - val_loss: 4.0999\n",
      "\n",
      "Epoch 00005: val_loss did not improve from 4.01929\n"
     ]
    }
   ],
   "source": [
    "# clear Keras backend session\n",
    "K.clear_session()\n",
    "hist = model.fit([X1_train, X2_train], y_train, \n",
    "                  epochs=5, verbose=1, batch_size=300,\n",
    "                  validation_data=([X1_val, X2_val], y_val),callbacks=[checkpoint])#, 20 epoch\n",
    "                  #callbacks = [early_stop]) # change the validation "
   ]
  },
  {
   "cell_type": "code",
   "execution_count": 30,
   "id": "ef1c560c-bd21-4667-9974-b3dde72741c5",
   "metadata": {},
   "outputs": [
    {
     "data": {
      "image/png": "[encoded data removed]",
      "text/plain": [
       "<Figure size 432x288 with 1 Axes>"
      ]
     },
     "metadata": {
      "needs_background": "light"
     },
     "output_type": "display_data"
    }
   ],
   "source": [
    "for label in [\"loss\",\"val_loss\"]:\n",
    "    plt.plot(hist.history[label],label=label)\n",
    "plt.legend()\n",
    "plt.xlabel(\"epochs\")\n",
    "plt.ylabel(\"loss\")\n",
    "plt.show()"
   ]
  },
  {
   "cell_type": "markdown",
   "id": "8e9b1876-bf19-41d8-b164-c8106ac6033a",
   "metadata": {},
   "source": [
    "### Evaluate Model"
   ]
  },
  {
   "cell_type": "code",
   "execution_count": 42,
   "id": "83d13756-e310-445a-94a3-a6ef2ae2c910",
   "metadata": {},
   "outputs": [],
   "source": [
    "model = load_model('./models_5_4800_64/model-ep003-loss3.462-val_loss4.019.h5')"
   ]
  },
  {
   "cell_type": "code",
   "execution_count": 43,
   "id": "7be9c86d-a328-4202-8f64-72cfb8b52986",
   "metadata": {},
   "outputs": [],
   "source": [
    "index_to_word = dict([(index,word) for word, index in tokenizer.word_index.items()])"
   ]
  },
  {
   "cell_type": "code",
   "execution_count": 44,
   "id": "dc77a955-9102-47ec-94fc-4d04290dad68",
   "metadata": {},
   "outputs": [],
   "source": [
    "def predict_caption(model, image,tokenizer,max_len): # image_feature instead of image\n",
    "    in_text = 'startseq'\n",
    "    for i in range(max_len):\n",
    "        seq = tokenizer.texts_to_sequences([in_text])[0]\n",
    "        seq = pad_sequences([seq],max_len)\n",
    "        y_pred = model.predict([image,seq],verbose = 0)\n",
    "        y_pred = np.argmax(y_pred)\n",
    "        new_word = index_to_word[y_pred]\n",
    "        if new_word is None:\n",
    "            break\n",
    "        in_text += \" \" + new_word\n",
    "        if new_word == \"endseq\":\n",
    "            break\n",
    "        \n",
    "    return in_text"
   ]
  },
  {
   "cell_type": "code",
   "execution_count": 55,
   "id": "6a2eb4de-97e8-4baa-b616-06b39d59cda1",
   "metadata": {},
   "outputs": [],
   "source": [
    "def generate_caption(image_id):\n",
    "    actual = []\n",
    "    bleu = 0    \n",
    "    image_path = '../data/Flicker8k_Dataset/' + image_id + '.jpg'\n",
    "    img = load_img(image_path,target_size=(224, 224))\n",
    "    captions = cleaned_captions[image_id]\n",
    "    y_pred = predict_caption(model, features[image_id],tokenizer,max_len)\n",
    "    print('----Actual----')\n",
    "    for caption in captions:\n",
    "        caption= caption.split()[1:-1]\n",
    "        actual.append(caption)\n",
    "        caption =  \" \".join(caption)\n",
    "        print(caption)\n",
    "    print(actual)\n",
    "    bleu = corpus_bleu([actual],y_pred)\n",
    "    print('\\n')\n",
    "    \n",
    "    print('---Predicted----')\n",
    "    y_pred = y_pred.split()[1:-1]\n",
    "    y_pred =  \" \".join(y_pred)\n",
    "    print(y_pred)\n",
    "    bleu = bleu / len(captions)\n",
    "    print('\\n')\n",
    "    print(f'BLEU= {bleu}')\n",
    "    plt.imshow(img)\n",
    "    return bleu"
   ]
  },
  {
   "cell_type": "code",
   "execution_count": 56,
   "id": "d2219310-2a08-4771-8b35-5543c5619f80",
   "metadata": {},
   "outputs": [
    {
     "name": "stdout",
     "output_type": "stream",
     "text": [
      "----Actual----\n",
      "photo of smiling young woman in front of tables on the street\n",
      "woman in jacket is posing for camera smiling in mostly empty restaurant\n",
      "young girl standing outside restaurant at night\n",
      "young woman wearing turtle neck and black jacket is smiling for picture\n",
      "the little girl is wearing black sweater and standing in front of restaurant\n",
      "[['photo', 'of', 'smiling', 'young', 'woman', 'in', 'front', 'of', 'tables', 'on', 'the', 'street'], ['woman', 'in', 'jacket', 'is', 'posing', 'for', 'camera', 'smiling', 'in', 'mostly', 'empty', 'restaurant'], ['young', 'girl', 'standing', 'outside', 'restaurant', 'at', 'night'], ['young', 'woman', 'wearing', 'turtle', 'neck', 'and', 'black', 'jacket', 'is', 'smiling', 'for', 'picture'], ['the', 'little', 'girl', 'is', 'wearing', 'black', 'sweater', 'and', 'standing', 'in', 'front', 'of', 'restaurant']]\n"
     ]
    },
    {
     "ename": "AssertionError",
     "evalue": "The number of hypotheses and their reference(s) should be the same ",
     "output_type": "error",
     "traceback": [
      "\u001b[0;31m---------------------------------------------------------------------------\u001b[0m",
      "\u001b[0;31mAssertionError\u001b[0m                            Traceback (most recent call last)",
      "\u001b[0;32m<ipython-input-56-fbf621ddbe3b>\u001b[0m in \u001b[0;36m<module>\u001b[0;34m\u001b[0m\n\u001b[0;32m----> 1\u001b[0;31m \u001b[0mgenerate_caption\u001b[0m\u001b[0;34m(\u001b[0m\u001b[0mimage_id_train\u001b[0m\u001b[0;34m[\u001b[0m\u001b[0;36m63\u001b[0m\u001b[0;34m]\u001b[0m\u001b[0;34m)\u001b[0m\u001b[0;34m\u001b[0m\u001b[0;34m\u001b[0m\u001b[0m\n\u001b[0m",
      "\u001b[0;32m<ipython-input-55-259b34d9fa04>\u001b[0m in \u001b[0;36mgenerate_caption\u001b[0;34m(image_id)\u001b[0m\n\u001b[1;32m     13\u001b[0m         \u001b[0mprint\u001b[0m\u001b[0;34m(\u001b[0m\u001b[0mcaption\u001b[0m\u001b[0;34m)\u001b[0m\u001b[0;34m\u001b[0m\u001b[0;34m\u001b[0m\u001b[0m\n\u001b[1;32m     14\u001b[0m     \u001b[0mprint\u001b[0m\u001b[0;34m(\u001b[0m\u001b[0mactual\u001b[0m\u001b[0;34m)\u001b[0m\u001b[0;34m\u001b[0m\u001b[0;34m\u001b[0m\u001b[0m\n\u001b[0;32m---> 15\u001b[0;31m     \u001b[0mbleu\u001b[0m \u001b[0;34m=\u001b[0m \u001b[0mcorpus_bleu\u001b[0m\u001b[0;34m(\u001b[0m\u001b[0mactual\u001b[0m\u001b[0;34m,\u001b[0m\u001b[0my_pred\u001b[0m\u001b[0;34m)\u001b[0m\u001b[0;34m\u001b[0m\u001b[0;34m\u001b[0m\u001b[0m\n\u001b[0m\u001b[1;32m     16\u001b[0m     \u001b[0mprint\u001b[0m\u001b[0;34m(\u001b[0m\u001b[0;34m'\\n'\u001b[0m\u001b[0;34m)\u001b[0m\u001b[0;34m\u001b[0m\u001b[0;34m\u001b[0m\u001b[0m\n\u001b[1;32m     17\u001b[0m \u001b[0;34m\u001b[0m\u001b[0m\n",
      "\u001b[0;32m~/opt/anaconda3/envs/deep_learning/lib/python3.6/site-packages/nltk/translate/bleu_score.py\u001b[0m in \u001b[0;36mcorpus_bleu\u001b[0;34m(list_of_references, hypotheses, weights, smoothing_function, auto_reweigh)\u001b[0m\n\u001b[1;32m    194\u001b[0m \u001b[0;34m\u001b[0m\u001b[0m\n\u001b[1;32m    195\u001b[0m     assert len(list_of_references) == len(hypotheses), (\n\u001b[0;32m--> 196\u001b[0;31m         \u001b[0;34m\"The number of hypotheses and their reference(s) should be the \"\u001b[0m \u001b[0;34m\"same \"\u001b[0m\u001b[0;34m\u001b[0m\u001b[0;34m\u001b[0m\u001b[0m\n\u001b[0m\u001b[1;32m    197\u001b[0m     )\n\u001b[1;32m    198\u001b[0m \u001b[0;34m\u001b[0m\u001b[0m\n",
      "\u001b[0;31mAssertionError\u001b[0m: The number of hypotheses and their reference(s) should be the same "
     ]
    }
   ],
   "source": [
    "generate_caption(image_id_train[63])"
   ]
  },
  {
   "cell_type": "code",
   "execution_count": 52,
   "id": "5e0073db-eeda-4d32-a72c-bf3665eecc79",
   "metadata": {
    "collapsed": true,
    "jupyter": {
     "outputs_hidden": true
    },
    "tags": []
   },
   "outputs": [
    {
     "data": {
      "text/plain": [
       "[3.272561325903966e-155,\n",
       " 0,\n",
       " 5.330020010319017e-232,\n",
       " 2.3298299857550653e-155,\n",
       " 8.396161215621529e-232,\n",
       " 0,\n",
       " 1.1862177682648818e-231,\n",
       " 7.296382734947757e-232,\n",
       " 4.65988169467104e-155,\n",
       " 6.416038883891965e-155,\n",
       " 3.6697394677640926e-155,\n",
       " 0,\n",
       " 3.648956622645728e-232,\n",
       " 5.395774370246974e-78,\n",
       " 3.571883312829026e-232,\n",
       " 1.1721660986694186e-78,\n",
       " 6.787872662925505e-155,\n",
       " 3.8476696299631795e-155,\n",
       " 1.0003688322288243e-231,\n",
       " 3.2465087977690726e-78,\n",
       " 5.705336763108155e-78,\n",
       " 2.965165608665095e-78,\n",
       " 0,\n",
       " 7.657404561915943e-155,\n",
       " 4.481994719908145e-232,\n",
       " 6.520501036082648e-232,\n",
       " 6.7393716283177006e-155,\n",
       " 1.384292958842266e-231,\n",
       " 9.609501042934093e-156,\n",
       " 0.2493651438887133,\n",
       " 1.0003688322288243e-231,\n",
       " 5.791739854583281e-155,\n",
       " 1.331960397810445e-231,\n",
       " 3.935039685526131e-155,\n",
       " 1.0832677820940877e-231,\n",
       " 1.0244914152188952e-231,\n",
       " 6.010455532087301e-155,\n",
       " 0,\n",
       " 3.571883312829026e-232,\n",
       " 1.0518351895246305e-231,\n",
       " 4.27242167093289e-155,\n",
       " 8.422437779564611e-232,\n",
       " 4.35483727327488e-155,\n",
       " 1.0518351895246305e-231,\n",
       " 0,\n",
       " 7.100514228897259e-155,\n",
       " 1.2387197655613557e-231,\n",
       " 5.058927350602078e-232,\n",
       " 0,\n",
       " 1.0658543616184898e-231,\n",
       " 1.331960397810445e-231,\n",
       " 6.510101141652543e-232,\n",
       " 7.060301868108111e-232,\n",
       " 6.968148412761692e-155,\n",
       " 9.709385502639237e-232,\n",
       " 0.2984745896009823,\n",
       " 0,\n",
       " 0.3655552228545123,\n",
       " 1.2183324802375697e-231,\n",
       " 4.7706101635859015e-232,\n",
       " 8.612150057732663e-155,\n",
       " 0,\n",
       " 1.0518351895246305e-231,\n",
       " 0.32260135189272865,\n",
       " 1.0518351895246305e-231,\n",
       " 0,\n",
       " 1.2882297539194154e-231,\n",
       " 1.0749662678465409e-231,\n",
       " 0.5578002860768766,\n",
       " 2.9251770022770788e-232,\n",
       " 0,\n",
       " 9.269981669466712e-232,\n",
       " 8.853864984883467e-232,\n",
       " 1.1200407237786664e-231,\n",
       " 1.1640469867513693e-231,\n",
       " 3.645525559050358e-155,\n",
       " 7.107197028258987e-232,\n",
       " 1.331960397810445e-231,\n",
       " 0,\n",
       " 1.126199256928023e-231,\n",
       " 8.34076112986429e-232,\n",
       " 1.2183324802375697e-231,\n",
       " 2.6616657200018397e-78,\n",
       " 1.1640469867513693e-231,\n",
       " 1.3483065280626046e-231,\n",
       " 5.330020010319017e-232,\n",
       " 3.271092989210003e-78,\n",
       " 7.601159375410181e-232,\n",
       " 1.2508498911928379e-231,\n",
       " 1.1640469867513693e-231,\n",
       " 7.711523862191631e-155,\n",
       " 2.6044836408156456e-78,\n",
       " 4.658566834617536e-155,\n",
       " 3.917372151449784e-155,\n",
       " 7.521821744402224e-232,\n",
       " 4.282289549833951e-232,\n",
       " 6.223629500679345e-155,\n",
       " 0.39011264866539486,\n",
       " 1.1640469867513693e-231,\n",
       " 9.037968939610782e-232,\n",
       " 6.8745561108800095e-155,\n",
       " 4.987693055201041e-155,\n",
       " 9.013778876140909e-155,\n",
       " 9.269981669466712e-232,\n",
       " 4.1927887725759647e-78,\n",
       " 1.1200407237786664e-231,\n",
       " 7.600394483915427e-155,\n",
       " 4.753148692240233e-232,\n",
       " 3.690840039559348e-232,\n",
       " 6.744160953836975e-232,\n",
       " 3.891524296988902e-155,\n",
       " 1.171778691554733e-231,\n",
       " 0,\n",
       " 6.480360213743594e-155,\n",
       " 0,\n",
       " 6.968148412761692e-155,\n",
       " 5.233427736988301e-155,\n",
       " 4.2338646970116024e-78,\n",
       " 1.0009379942300742e-231,\n",
       " 0,\n",
       " 1.0009379942300742e-231,\n",
       " 1.2508498911928379e-231,\n",
       " 6.373704167435469e-155,\n",
       " 1.2387197655613557e-231,\n",
       " 1.2183324802375697e-231,\n",
       " 6.416038883891965e-155,\n",
       " 8.416851712392762e-232,\n",
       " 6.510101141652543e-232,\n",
       " 9.853445011990208e-232,\n",
       " 9.418382295637229e-232,\n",
       " 1.1368587676511996e-231,\n",
       " 1.0244914152188952e-231,\n",
       " 1.2183324802375697e-231,\n",
       " 1.1896457329133973e-231,\n",
       " 6.061838450024688e-155,\n",
       " 2.509958499009158e-78,\n",
       " 1.0016022933125248e-231,\n",
       " 1.384292958842266e-231,\n",
       " 4.828970785282294e-155,\n",
       " 9.039352811507815e-232,\n",
       " 0,\n",
       " 0,\n",
       " 3.0858707633577667e-155,\n",
       " 5.722633035689358e-155,\n",
       " 1.331960397810445e-231,\n",
       " 5.203538639359665e-78,\n",
       " 6.034940380417626e-232,\n",
       " 1.2508498911928379e-231,\n",
       " 4.721756180471194e-155,\n",
       " 1.0518351895246305e-231,\n",
       " 0,\n",
       " 4.658566834617536e-155,\n",
       " 7.176381577237209e-155,\n",
       " 9.853445011990208e-232,\n",
       " 8.324264127738903e-232,\n",
       " 2.131874265859462e-155,\n",
       " 0,\n",
       " 1.171778691554733e-231,\n",
       " 0,\n",
       " 1.1200407237786664e-231,\n",
       " 0,\n",
       " 9.412234823955334e-232,\n",
       " 0.26708679784499234,\n",
       " 0,\n",
       " 5.6228231334895985e-155,\n",
       " 0,\n",
       " 3.4709523904299764e-155,\n",
       " 0,\n",
       " 4.310732902257592e-232,\n",
       " 1.1640469867513693e-231,\n",
       " 0,\n",
       " 1.0518351895246305e-231,\n",
       " 4.539324034745998e-155,\n",
       " 1.331960397810445e-231,\n",
       " 4.900008468089985e-232,\n",
       " 1.2508498911928379e-231,\n",
       " 0,\n",
       " 6.030654703641957e-155,\n",
       " 1.331960397810445e-231,\n",
       " 6.016112399618114e-232,\n",
       " 9.032704947274394e-155,\n",
       " 1.2886556614526506e-78,\n",
       " 0,\n",
       " 9.918892480173173e-232,\n",
       " 6.016112399618114e-232,\n",
       " 1.1862177682648818e-231,\n",
       " 9.291879812217675e-232,\n",
       " 5.722633035689358e-155,\n",
       " 9.55507953056397e-233,\n",
       " 1.3483065280626046e-231,\n",
       " 0,\n",
       " 0,\n",
       " 7.176381577237209e-155,\n",
       " 7.58961907326157e-232,\n",
       " 7.521821744402224e-232,\n",
       " 7.296382734947757e-232,\n",
       " 9.418382295637229e-232,\n",
       " 2.1761999267756727e-78,\n",
       " 1.0832677820940877e-231,\n",
       " 4.038234320052887e-232]"
      ]
     },
     "execution_count": 52,
     "metadata": {},
     "output_type": "execute_result"
    }
   ],
   "source": [
    "image_ids = image_id_train\n",
    "count = 0\n",
    "bleus = []\n",
    "for image_id in image_ids:\n",
    "    count += 1\n",
    "    if count >200:\n",
    "        break\n",
    "    caption_true = cleaned_captions[image_id][1].split()[1:-1]\n",
    "    caption_pre = predict_caption(model, features[image_id],tokenizer,max_len)\n",
    "    caption_pre = caption_pre.split()[1:-1]\n",
    "    bleu = sentence_bleu([caption_true],caption_pre)\n",
    "    bleus.append(bleu)\n",
    "    #print(caption_true)\n",
    "    #print(caption_pre)\n",
    "bleus"
   ]
  },
  {
   "cell_type": "code",
   "execution_count": 53,
   "id": "bb4612fd-7952-408f-8d77-2b76c53fc7fe",
   "metadata": {},
   "outputs": [
    {
     "name": "stdout",
     "output_type": "stream",
     "text": [
      "29 0.2493651438887133\n",
      "55 0.2984745896009823\n",
      "57 0.3655552228545123\n",
      "63 0.32260135189272865\n",
      "68 0.5578002860768766\n",
      "97 0.39011264866539486\n",
      "162 0.26708679784499234\n"
     ]
    }
   ],
   "source": [
    "for i in range(len(bleus)):\n",
    "    if bleus[i] > 0.05:\n",
    "        print(i,bleus[i])"
   ]
  },
  {
   "cell_type": "code",
   "execution_count": null,
   "id": "634ce8fc-15c4-4406-9730-62be54d28068",
   "metadata": {},
   "outputs": [],
   "source": []
  }
 ],
 "metadata": {
  "kernelspec": {
   "display_name": "Python 3",
   "language": "python",
   "name": "python3"
  },
  "language_info": {
   "codemirror_mode": {
    "name": "ipython",
    "version": 3
   },
   "file_extension": ".py",
   "mimetype": "text/x-python",
   "name": "python",
   "nbconvert_exporter": "python",
   "pygments_lexer": "ipython3",
   "version": "3.6.13"
  }
 },
 "nbformat": 4,
 "nbformat_minor": 5
}
